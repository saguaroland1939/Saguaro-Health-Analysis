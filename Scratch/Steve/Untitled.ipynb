{
 "cells": [
  {
   "cell_type": "code",
   "execution_count": null,
   "metadata": {},
   "outputs": [],
   "source": [
    "# In the very beginnig of the notebook.\n",
    "When it came to finding the data to do the Historical Weather Data for the Saguaro project for the Desert Botanical Gardens\n",
    "that went back the required 8 years for this study data we found it difficult to locate an API that would support \n",
    "the needs of the project.  \n",
    "The first stop was the Open Weather site.  The data that we could obtain for free only went back 5 days with an API.  \n",
    "After reaching out to the service we could only purchase a CSV file for one area for $40.  They do not have an API\n",
    "that would work for that much historical data.\n",
    "The next stop was the National Weather Service for data.  This site too did not have an API that would allow us to \n",
    "pull that much historical data at once.  The historical data does go back as far as we would have needed however\n",
    "it is only available in one month time frame pulls at a time.  This would cause us to pull the data 96 times to \n",
    "create the data set needed for the analysis.\n",
    "The data used for this site was pulled from a website called Visual Crossings.  The data was fully available as a CSV only and we\n",
    "did have to purchase this data.  The cost of the data was $.32 at a rate of $.0001 a line item"
   ]
  },
  {
   "cell_type": "code",
   "execution_count": null,
   "metadata": {},
   "outputs": [],
   "source": [
    "# Creating the list and the mean\n",
    "After the CSV file was imported the first step was to pull the amount of percipitation for each year 2012 to 2020.\n",
    "We then took the total precipiation and did a groupby year to get a precipitiation for each year.  To do the average\n",
    "we did a mean from the list for years 2013-2014 as well as 2015 to 2019.\n",
    "When trying to collect the data for this statistic it took multiple trys taking different methods including\n",
    "binning to create the necessary averages for the data set."
   ]
  },
  {
   "cell_type": "code",
   "execution_count": null,
   "metadata": {},
   "outputs": [],
   "source": [
    "# Create a BarGraph Visualizaion for the Precipitation by year\n",
    "Taking the informaion from the Mean of the precipitaion and years collected we then created a bar chart for the data to show\n",
    "the averages for each of the years that the comparison is being made to the growth rate to the average precipitation for the \n",
    "given years."
   ]
  },
  {
   "cell_type": "code",
   "execution_count": null,
   "metadata": {},
   "outputs": [],
   "source": [
    "# Creating the list and years where the minimum temperature was >= 90.\n",
    "We created a data set for the minimum temperature and the temp was not below 90 for the 8 years of the collected data.\n",
    "Taking what we did to get the information from the CSV to calculate the precipitaion we found the necessary information \n",
    "on the number of nights (23) where the temperature did not dip below 90.\n",
    "Based on the data it does appear that in 2020 we did have a spike in the number of nights when the temperature did \n",
    "not get below 90.  \n",
    "It will be interesting to compare the data to the mortality rate of cactus in 2021 after the inventory is taken since the\n",
    "amount of rain in 2020 was low and the number of days that the temp did not get below 90 dramatically increased over 2019.\n"
   ]
  },
  {
   "cell_type": "code",
   "execution_count": null,
   "metadata": {},
   "outputs": [],
   "source": [
    "# Create a BarGraph Visualizaion for the Precipitation by year"
   ]
  },
  {
   "cell_type": "code",
   "execution_count": null,
   "metadata": {},
   "outputs": [],
   "source": []
  }
 ],
 "metadata": {
  "kernelspec": {
   "display_name": "Python 3",
   "language": "python",
   "name": "python3"
  },
  "language_info": {
   "codemirror_mode": {
    "name": "ipython",
    "version": 3
   },
   "file_extension": ".py",
   "mimetype": "text/x-python",
   "name": "python",
   "nbconvert_exporter": "python",
   "pygments_lexer": "ipython3",
   "version": "3.8.3"
  }
 },
 "nbformat": 4,
 "nbformat_minor": 4
}
