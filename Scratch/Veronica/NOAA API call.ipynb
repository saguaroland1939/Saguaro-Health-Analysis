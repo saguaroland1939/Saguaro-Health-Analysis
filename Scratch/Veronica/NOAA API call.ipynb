{
 "cells": [
  {
   "cell_type": "code",
   "execution_count": null,
   "metadata": {},
   "outputs": [],
   "source": [
    "Useful bits:\n",
    "\n",
    "\n",
    "User-Agent = (saguaroproject1, vsnixon@gmail.com)    \n",
    "https://www.ncdc.noaa.gov/cdo-web/api/v2/datacategories?locationid=CITY:US390029\n",
    "startdate = 2013-1-1\n",
    "enddate = 2019-12-31\n",
    "https://www.ncdc.noaa.gov/cdo-web/api/v2/datasets\t"
   ]
  }
 ],
 "metadata": {
  "kernelspec": {
   "display_name": "Python 3",
   "language": "python",
   "name": "python3"
  },
  "language_info": {
   "codemirror_mode": {
    "name": "ipython",
    "version": 3
   },
   "file_extension": ".py",
   "mimetype": "text/x-python",
   "name": "python",
   "nbconvert_exporter": "python",
   "pygments_lexer": "ipython3",
   "version": "3.6.10"
  }
 },
 "nbformat": 4,
 "nbformat_minor": 4
}
