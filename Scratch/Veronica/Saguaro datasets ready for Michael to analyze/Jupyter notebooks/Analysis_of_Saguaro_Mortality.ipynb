{
 "cells": [
  {
   "cell_type": "markdown",
   "metadata": {},
   "source": [
    "# Analysis"
   ]
  },
  {
   "cell_type": "code",
   "execution_count": null,
   "metadata": {},
   "outputs": [],
   "source": [
    "# Import dependencies\n",
    "import pandas as pd\n",
    "import matplotlib.pyplot as plt"
   ]
  },
  {
   "cell_type": "markdown",
   "metadata": {},
   "source": [
    "## This analysis takes three input files:\n",
    "* Mortality_per_year_ready_for_analysis.csv contains the count of how many saguaros were lost in each year of interest.\n",
    "* Mortality_per_timespan_ready_for_analysis.csv contains the yearly average of saguaro loss within two timespans of interest.\n",
    "* "
   ]
  },
  {
   "cell_type": "code",
   "execution_count": 1,
   "metadata": {},
   "outputs": [],
   "source": [
    "# Import two saguaro mortality data files containing:\n",
    "# 1) A raw mortality count for each year of interest and 2) The average yearly rate for each timespan of interest\n",
    "count_by_year_df = pd.read_csv(\"Mortality_per_year_ready_for_analysis.csv\")\n",
    "average_yearly_rate_by_timespan_df = pd.read_csv(\"Mortality_per_timespan_ready_for_analysis.csv\")"
   ]
  },
  {
   "cell_type": "code",
   "execution_count": null,
   "metadata": {},
   "outputs": [],
   "source": []
  }
 ],
 "metadata": {
  "kernelspec": {
   "display_name": "Python 3",
   "language": "python",
   "name": "python3"
  },
  "language_info": {
   "codemirror_mode": {
    "name": "ipython",
    "version": 3
   },
   "file_extension": ".py",
   "mimetype": "text/x-python",
   "name": "python",
   "nbconvert_exporter": "python",
   "pygments_lexer": "ipython3",
   "version": "3.8.3"
  }
 },
 "nbformat": 4,
 "nbformat_minor": 4
}
